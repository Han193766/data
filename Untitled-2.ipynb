{
 "cells": [
  {
   "cell_type": "code",
   "execution_count": 1,
   "metadata": {},
   "outputs": [],
   "source": [
    "import pandas as pd\n",
    "import numpy\n",
    "import matplotlib.pyplot as plt\n",
    "import seaborn as sns\n",
    "from scipy import stats"
   ]
  },
  {
   "cell_type": "code",
   "execution_count": 2,
   "metadata": {},
   "outputs": [],
   "source": [
    "df = pd.read_csv(r\"C:/Users/DELL/Desktop/experiment_dataset.csv\")"
   ]
  },
  {
   "attachments": {},
   "cell_type": "markdown",
   "metadata": {},
   "source": [
    "# Calculate average CTR and Time Spent for each feature and the control group"
   ]
  },
  {
   "cell_type": "code",
   "execution_count": 3,
   "metadata": {},
   "outputs": [],
   "source": [
    "avg_ctr = df.groupby('Variant')['CTR'].mean()\n",
    "avg_time_spent = df.groupby('Variant')['Time Spent'].mean()"
   ]
  },
  {
   "attachments": {},
   "cell_type": "markdown",
   "metadata": {},
   "source": [
    "# Print the average CTR and Time Spent for each group"
   ]
  },
  {
   "cell_type": "code",
   "execution_count": 4,
   "metadata": {},
   "outputs": [
    {
     "name": "stdout",
     "output_type": "stream",
     "text": [
      "Average CTR:\n",
      "Variant\n",
      "Control      0.098554\n",
      "Variant A    0.120269\n",
      "Variant B    0.108933\n",
      "Name: CTR, dtype: float64\n",
      "\n",
      "Average Time Spent:\n",
      "Variant\n",
      "Control      20.070781\n",
      "Variant A    24.805547\n",
      "Variant B    23.343783\n",
      "Name: Time Spent, dtype: float64\n"
     ]
    }
   ],
   "source": [
    "print(\"Average CTR:\")\n",
    "print(avg_ctr)\n",
    "print(\"\\nAverage Time Spent:\")\n",
    "print(avg_time_spent)"
   ]
  },
  {
   "attachments": {},
   "cell_type": "markdown",
   "metadata": {},
   "source": [
    "# Perform t-tests comparing each feature group with the control group for CTR"
   ]
  },
  {
   "cell_type": "code",
   "execution_count": 5,
   "metadata": {},
   "outputs": [],
   "source": [
    "control_ctr = df[df['Variant'] == 'Control']['CTR']\n",
    "variant_a_ctr = df[df['Variant'] == 'Variant A']['CTR']\n",
    "variant_b_ctr = df[df['Variant'] == 'Variant B']['CTR']"
   ]
  },
  {
   "cell_type": "code",
   "execution_count": 6,
   "metadata": {},
   "outputs": [],
   "source": [
    "t_statistic_a_ctr, p_value_a_ctr = stats.ttest_ind(control_ctr, variant_a_ctr)\n",
    "t_statistic_b_ctr, p_value_b_ctr = stats.ttest_ind(control_ctr, variant_b_ctr)"
   ]
  },
  {
   "cell_type": "code",
   "execution_count": 7,
   "metadata": {},
   "outputs": [
    {
     "name": "stdout",
     "output_type": "stream",
     "text": [
      "\n",
      "CTR T-Test Results:\n",
      "Control vs Variant A: p-value = 1.9602781373243157e-38\n",
      "Control vs Variant B: p-value = 1.8743198199982106e-10\n"
     ]
    }
   ],
   "source": [
    "print(\"\\nCTR T-Test Results:\")\n",
    "print(f\"Control vs Variant A: p-value = {p_value_a_ctr}\")\n",
    "print(f\"Control vs Variant B: p-value = {p_value_b_ctr}\")"
   ]
  },
  {
   "attachments": {},
   "cell_type": "markdown",
   "metadata": {},
   "source": [
    "# Perform t-tests comparing each feature group with the control group for Time Spent"
   ]
  },
  {
   "cell_type": "code",
   "execution_count": 8,
   "metadata": {},
   "outputs": [],
   "source": [
    "control_time_spent = df[df['Variant'] == 'Control']['Time Spent']\n",
    "variant_a_time_spent = df[df['Variant'] == 'Variant A']['Time Spent']\n",
    "variant_b_time_spent = df[df['Variant'] == 'Variant B']['Time Spent']"
   ]
  },
  {
   "cell_type": "code",
   "execution_count": 9,
   "metadata": {},
   "outputs": [],
   "source": [
    "t_statistic_a_time_spent, p_value_a_time_spent = stats.ttest_ind(control_time_spent, variant_a_time_spent)\n",
    "t_statistic_b_time_spent, p_value_b_time_spent = stats.ttest_ind(control_time_spent, variant_b_time_spent)"
   ]
  },
  {
   "cell_type": "code",
   "execution_count": 10,
   "metadata": {},
   "outputs": [
    {
     "name": "stdout",
     "output_type": "stream",
     "text": [
      "\n",
      "Time Spent T-Test Results:\n",
      "Control vs Variant A: p-value = 8.488565644996449e-31\n",
      "Control vs Variant B: p-value = 1.496358076285182e-15\n"
     ]
    }
   ],
   "source": [
    "print(\"\\nTime Spent T-Test Results:\")\n",
    "print(f\"Control vs Variant A: p-value = {p_value_a_time_spent}\")\n",
    "print(f\"Control vs Variant B: p-value = {p_value_b_time_spent}\")"
   ]
  },
  {
   "attachments": {},
   "cell_type": "markdown",
   "metadata": {},
   "source": [
    "# Summary and Recommendation"
   ]
  },
  {
   "cell_type": "code",
   "execution_count": 13,
   "metadata": {},
   "outputs": [
    {
     "name": "stdout",
     "output_type": "stream",
     "text": [
      "\n",
      "Summary:\n",
      "Variant A shows a statistically significant lift in both CTR and average Time Spent.\n",
      "Recommendation: Deploy Variant A.\n"
     ]
    }
   ],
   "source": [
    "print(\"\\nSummary:\")\n",
    "if p_value_a_ctr < 0.05 and p_value_a_time_spent < 0.05:\n",
    "    print(\"Variant A shows a statistically significant lift in both CTR and average Time Spent.\")\n",
    "    print(\"Recommendation: Deploy Variant A.\")\n",
    "else:\n",
    "    print(\"Variant A does not show a statistically significant improvement\")\n",
    "     "
   ]
  },
  {
   "attachments": {},
   "cell_type": "markdown",
   "metadata": {},
   "source": [
    "Based on the analysis of the Average CTR and Average Time Spent metrics, it is observed that Variant A has shown a statistically significant improvement compared to the control group. CTR for variant A is 0.120269, variant B is 0.108933. Control is 0.098554. We can know that variant A is better than B. Similarly, ave time spent for variant A(24.805547) is better than B(23.343783) as well. I use t-test to confirm the statistical significance of the differences. The p-value for the CTR between Control and Variant A is 1.9602781373243157e-38, and the p-value for the Time Spent between Control and Variant A is 8.488565644996449e-31. These values both below than 0.05, so it means variant A shows a statistically significant lift in both CTR and average Time Spent.\n"
   ]
  },
  {
   "attachments": {},
   "cell_type": "markdown",
   "metadata": {},
   "source": [
    " roll-out plan\n",
    " Can be divided into three stages. The first stage is to sell a small part first, such as 15%, and then look at the feedback results of customers. The second phase is to have two different plans. If the feedback from customers we detected in stage 1 is good, we can expand the sales according to the trend; if there is a problem, we can also stop the loss in time and improve it. The third stage is a comprehensive rollout, and timely optimization and update iterations based on customer feedback. These three stages have one thing in common, which is to detect the feedback results of customers in real time and make changes in time."
   ]
  }
 ],
 "metadata": {
  "kernelspec": {
   "display_name": "Python 3",
   "language": "python",
   "name": "python3"
  },
  "language_info": {
   "codemirror_mode": {
    "name": "ipython",
    "version": 3
   },
   "file_extension": ".py",
   "mimetype": "text/x-python",
   "name": "python",
   "nbconvert_exporter": "python",
   "pygments_lexer": "ipython3",
   "version": "3.11.3"
  },
  "orig_nbformat": 4
 },
 "nbformat": 4,
 "nbformat_minor": 2
}
