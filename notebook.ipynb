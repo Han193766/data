{
 "cells": [
  {
   "cell_type": "code",
   "execution_count": 2,
   "metadata": {},
   "outputs": [
    {
     "name": "stdout",
     "output_type": "stream",
     "text": [
      "Requirement already satisfied: numpy in e:\\python\\lib\\site-packages (1.24.3)\n",
      "Note: you may need to restart the kernel to use updated packages.\n"
     ]
    },
    {
     "name": "stderr",
     "output_type": "stream",
     "text": [
      "\n",
      "[notice] A new release of pip available: 22.3.1 -> 23.1.2\n",
      "[notice] To update, run: python.exe -m pip install --upgrade pip\n"
     ]
    }
   ],
   "source": [
    "pip install numpy "
   ]
  },
  {
   "cell_type": "code",
   "execution_count": 26,
   "metadata": {},
   "outputs": [
    {
     "name": "stdout",
     "output_type": "stream",
     "text": [
      "Requirement already satisfied: matplotlib in e:\\python\\lib\\site-packages (3.7.1)\n",
      "Requirement already satisfied: seaborn in e:\\python\\lib\\site-packages (0.12.2)\n",
      "Requirement already satisfied: sklearn in e:\\python\\lib\\site-packages (0.0.post5)\n",
      "Requirement already satisfied: contourpy>=1.0.1 in e:\\python\\lib\\site-packages (from matplotlib) (1.0.7)\n",
      "Requirement already satisfied: cycler>=0.10 in e:\\python\\lib\\site-packages (from matplotlib) (0.11.0)\n",
      "Requirement already satisfied: fonttools>=4.22.0 in e:\\python\\lib\\site-packages (from matplotlib) (4.39.4)\n",
      "Requirement already satisfied: kiwisolver>=1.0.1 in e:\\python\\lib\\site-packages (from matplotlib) (1.4.4)\n",
      "Requirement already satisfied: numpy>=1.20 in e:\\python\\lib\\site-packages (from matplotlib) (1.24.3)\n",
      "Requirement already satisfied: packaging>=20.0 in c:\\users\\dell\\appdata\\roaming\\python\\python311\\site-packages (from matplotlib) (23.1)\n",
      "Requirement already satisfied: pillow>=6.2.0 in e:\\python\\lib\\site-packages (from matplotlib) (9.5.0)\n",
      "Requirement already satisfied: pyparsing>=2.3.1 in e:\\python\\lib\\site-packages (from matplotlib) (3.0.9)\n",
      "Requirement already satisfied: python-dateutil>=2.7 in c:\\users\\dell\\appdata\\roaming\\python\\python311\\site-packages (from matplotlib) (2.8.2)\n",
      "Requirement already satisfied: pandas>=0.25 in e:\\python\\lib\\site-packages (from seaborn) (2.0.1)\n",
      "Requirement already satisfied: pytz>=2020.1 in e:\\python\\lib\\site-packages (from pandas>=0.25->seaborn) (2023.3)\n",
      "Requirement already satisfied: tzdata>=2022.1 in e:\\python\\lib\\site-packages (from pandas>=0.25->seaborn) (2023.3)\n",
      "Requirement already satisfied: six>=1.5 in c:\\users\\dell\\appdata\\roaming\\python\\python311\\site-packages (from python-dateutil>=2.7->matplotlib) (1.16.0)\n",
      "Note: you may need to restart the kernel to use updated packages.\n"
     ]
    },
    {
     "name": "stderr",
     "output_type": "stream",
     "text": [
      "\n",
      "[notice] A new release of pip available: 22.3.1 -> 23.1.2\n",
      "[notice] To update, run: python.exe -m pip install --upgrade pip\n"
     ]
    }
   ],
   "source": [
    "pip install matplotlib seaborn sklearn"
   ]
  },
  {
   "cell_type": "code",
   "execution_count": 3,
   "metadata": {},
   "outputs": [],
   "source": [
    "import numpy"
   ]
  },
  {
   "cell_type": "code",
   "execution_count": 4,
   "metadata": {},
   "outputs": [
    {
     "name": "stdout",
     "output_type": "stream",
     "text": [
      "Requirement already satisfied: pandas in e:\\python\\lib\\site-packages (2.0.1)\n",
      "Requirement already satisfied: python-dateutil>=2.8.2 in c:\\users\\dell\\appdata\\roaming\\python\\python311\\site-packages (from pandas) (2.8.2)\n",
      "Requirement already satisfied: pytz>=2020.1 in e:\\python\\lib\\site-packages (from pandas) (2023.3)\n",
      "Requirement already satisfied: tzdata>=2022.1 in e:\\python\\lib\\site-packages (from pandas) (2023.3)\n",
      "Requirement already satisfied: numpy>=1.21.0 in e:\\python\\lib\\site-packages (from pandas) (1.24.3)\n",
      "Requirement already satisfied: six>=1.5 in c:\\users\\dell\\appdata\\roaming\\python\\python311\\site-packages (from python-dateutil>=2.8.2->pandas) (1.16.0)\n",
      "Note: you may need to restart the kernel to use updated packages.\n"
     ]
    },
    {
     "name": "stderr",
     "output_type": "stream",
     "text": [
      "\n",
      "[notice] A new release of pip available: 22.3.1 -> 23.1.2\n",
      "[notice] To update, run: python.exe -m pip install --upgrade pip\n"
     ]
    }
   ],
   "source": [
    "pip install pandas "
   ]
  },
  {
   "cell_type": "code",
   "execution_count": 5,
   "metadata": {},
   "outputs": [],
   "source": [
    "import pandas as pd\n"
   ]
  },
  {
   "cell_type": "code",
   "execution_count": 6,
   "metadata": {},
   "outputs": [],
   "source": [
    "\n",
    "df= pd.read_csv(\"C:/Users/DELL/Desktop/sales_data .csv\")\n"
   ]
  },
  {
   "cell_type": "code",
   "execution_count": 7,
   "metadata": {},
   "outputs": [
    {
     "data": {
      "text/html": [
       "<div>\n",
       "<style scoped>\n",
       "    .dataframe tbody tr th:only-of-type {\n",
       "        vertical-align: middle;\n",
       "    }\n",
       "\n",
       "    .dataframe tbody tr th {\n",
       "        vertical-align: top;\n",
       "    }\n",
       "\n",
       "    .dataframe thead th {\n",
       "        text-align: right;\n",
       "    }\n",
       "</style>\n",
       "<table border=\"1\" class=\"dataframe\">\n",
       "  <thead>\n",
       "    <tr style=\"text-align: right;\">\n",
       "      <th></th>\n",
       "      <th>Product</th>\n",
       "      <th>Region</th>\n",
       "      <th>Price</th>\n",
       "      <th>Units Sold</th>\n",
       "      <th>Sale Date</th>\n",
       "    </tr>\n",
       "  </thead>\n",
       "  <tbody>\n",
       "    <tr>\n",
       "      <th>0</th>\n",
       "      <td>NaN</td>\n",
       "      <td>Region_1</td>\n",
       "      <td>72.87</td>\n",
       "      <td>10.0</td>\n",
       "      <td>2022-01-01</td>\n",
       "    </tr>\n",
       "    <tr>\n",
       "      <th>1</th>\n",
       "      <td>Product_40</td>\n",
       "      <td>Region_2</td>\n",
       "      <td>46.19</td>\n",
       "      <td>10.0</td>\n",
       "      <td>2022-01-02</td>\n",
       "    </tr>\n",
       "    <tr>\n",
       "      <th>2</th>\n",
       "      <td>Product_1</td>\n",
       "      <td>Region_5</td>\n",
       "      <td>NaN</td>\n",
       "      <td>4.0</td>\n",
       "      <td>2022-01-03</td>\n",
       "    </tr>\n",
       "    <tr>\n",
       "      <th>3</th>\n",
       "      <td>Product_6</td>\n",
       "      <td>Region_8</td>\n",
       "      <td>143.47</td>\n",
       "      <td>8.0</td>\n",
       "      <td>2022-01-04</td>\n",
       "    </tr>\n",
       "    <tr>\n",
       "      <th>4</th>\n",
       "      <td>Product_44</td>\n",
       "      <td>Region_4</td>\n",
       "      <td>122.54</td>\n",
       "      <td>10.0</td>\n",
       "      <td>2022-01-05</td>\n",
       "    </tr>\n",
       "  </tbody>\n",
       "</table>\n",
       "</div>"
      ],
      "text/plain": [
       "      Product    Region   Price  Units Sold   Sale Date\n",
       "0         NaN  Region_1   72.87        10.0  2022-01-01\n",
       "1  Product_40  Region_2   46.19        10.0  2022-01-02\n",
       "2   Product_1  Region_5     NaN         4.0  2022-01-03\n",
       "3   Product_6  Region_8  143.47         8.0  2022-01-04\n",
       "4  Product_44  Region_4  122.54        10.0  2022-01-05"
      ]
     },
     "execution_count": 7,
     "metadata": {},
     "output_type": "execute_result"
    }
   ],
   "source": [
    "df.head()"
   ]
  },
  {
   "cell_type": "code",
   "execution_count": 8,
   "metadata": {},
   "outputs": [
    {
     "data": {
      "text/plain": [
       "Region\n",
       "Region_1      97.792821\n",
       "Region_10    113.310500\n",
       "Region_2     137.287340\n",
       "Region_3      91.008400\n",
       "Region_4      85.824051\n",
       "Region_5     125.430300\n",
       "Region_6      96.727037\n",
       "Region_7     107.210119\n",
       "Region_8     120.850909\n",
       "Region_9      95.861477\n",
       "Name: Price, dtype: float64"
      ]
     },
     "execution_count": 8,
     "metadata": {},
     "output_type": "execute_result"
    }
   ],
   "source": [
    "df.groupby('Region')['Price'].mean()"
   ]
  },
  {
   "cell_type": "code",
   "execution_count": 9,
   "metadata": {},
   "outputs": [
    {
     "data": {
      "text/plain": [
       "Units Sold\n",
       "2.0      28.840000\n",
       "3.0      59.395000\n",
       "4.0     109.404167\n",
       "5.0     105.225641\n",
       "6.0     135.148235\n",
       "7.0      72.963418\n",
       "8.0     104.286104\n",
       "9.0     131.369310\n",
       "10.0     90.398070\n",
       "11.0     97.852604\n",
       "12.0    103.439865\n",
       "13.0     96.214286\n",
       "14.0    178.106400\n",
       "15.0    182.942727\n",
       "16.0     94.609615\n",
       "17.0    108.675833\n",
       "18.0     70.581429\n",
       "19.0     85.430000\n",
       "20.0     15.760000\n",
       "21.0    127.890000\n",
       "22.0      9.330000\n",
       "Name: Price, dtype: float64"
      ]
     },
     "execution_count": 9,
     "metadata": {},
     "output_type": "execute_result"
    }
   ],
   "source": [
    "df.groupby('Units Sold')['Price'].mean()"
   ]
  },
  {
   "cell_type": "code",
   "execution_count": 10,
   "metadata": {},
   "outputs": [
    {
     "data": {
      "text/plain": [
       "Product\n",
       "Product_1      99.960526\n",
       "Product_10     97.610588\n",
       "Product_11    120.550833\n",
       "Product_12     77.138571\n",
       "Product_13     88.629412\n",
       "Product_14     95.544000\n",
       "Product_15     89.121053\n",
       "Product_16     77.116154\n",
       "Product_17    127.157143\n",
       "Product_18    107.107273\n",
       "Product_19    115.748500\n",
       "Product_2      79.284706\n",
       "Product_20    110.592000\n",
       "Product_21    110.399286\n",
       "Product_22    130.213889\n",
       "Product_23    130.509000\n",
       "Product_24     57.740000\n",
       "Product_25     79.464615\n",
       "Product_26     90.234375\n",
       "Product_27    193.255238\n",
       "Product_28     78.497500\n",
       "Product_29     82.186429\n",
       "Product_3      93.558095\n",
       "Product_30     85.231333\n",
       "Product_31    128.834500\n",
       "Product_32     74.437000\n",
       "Product_33    114.543125\n",
       "Product_34    253.598235\n",
       "Product_35     47.802727\n",
       "Product_36    103.420556\n",
       "Product_37    105.664706\n",
       "Product_38    100.138947\n",
       "Product_39    104.623333\n",
       "Product_4      99.022414\n",
       "Product_40    111.934615\n",
       "Product_41     70.522727\n",
       "Product_42     90.431579\n",
       "Product_43     73.047600\n",
       "Product_44    120.669333\n",
       "Product_45    104.425714\n",
       "Product_46    120.521333\n",
       "Product_47     68.001000\n",
       "Product_48     66.525714\n",
       "Product_49    165.538095\n",
       "Product_5      77.390000\n",
       "Product_50    179.963600\n",
       "Product_6      90.030000\n",
       "Product_7     111.477778\n",
       "Product_8      88.737273\n",
       "Product_9      81.315556\n",
       "Name: Price, dtype: float64"
      ]
     },
     "execution_count": 10,
     "metadata": {},
     "output_type": "execute_result"
    }
   ],
   "source": [
    "df.groupby('Product')['Price'].mean()"
   ]
  },
  {
   "cell_type": "code",
   "execution_count": 11,
   "metadata": {},
   "outputs": [
    {
     "data": {
      "text/plain": [
       "Region\n",
       "Region_1      82\n",
       "Region_10     81\n",
       "Region_2      92\n",
       "Region_3      78\n",
       "Region_4      79\n",
       "Region_5     103\n",
       "Region_6      71\n",
       "Region_7      85\n",
       "Region_8      84\n",
       "Region_9      89\n",
       "Name: Units Sold, dtype: int64"
      ]
     },
     "execution_count": 11,
     "metadata": {},
     "output_type": "execute_result"
    }
   ],
   "source": [
    "df.groupby('Region')['Units Sold'].count()"
   ]
  },
  {
   "cell_type": "code",
   "execution_count": 12,
   "metadata": {},
   "outputs": [
    {
     "data": {
      "text/plain": [
       "Product\n",
       "Product_4     30\n",
       "Product_24    29\n",
       "Product_43    28\n",
       "Product_40    26\n",
       "Product_50    25\n",
       "Product_8     25\n",
       "Product_23    25\n",
       "Product_49    24\n",
       "Product_19    24\n",
       "Product_17    23\n",
       "Product_3     23\n",
       "Product_28    21\n",
       "Product_27    21\n",
       "Product_10    21\n",
       "Product_9     21\n",
       "Product_42    21\n",
       "Product_36    21\n",
       "Product_1     21\n",
       "Product_31    20\n",
       "Product_15    20\n",
       "Product_45    20\n",
       "Product_26    20\n",
       "Product_2     19\n",
       "Product_38    19\n",
       "Product_37    19\n",
       "Product_7     19\n",
       "Product_22    19\n",
       "Product_13    18\n",
       "Product_6     17\n",
       "Product_46    17\n",
       "Product_48    17\n",
       "Product_34    17\n",
       "Product_44    16\n",
       "Product_33    16\n",
       "Product_30    16\n",
       "Product_20    16\n",
       "Product_16    15\n",
       "Product_21    15\n",
       "Product_29    15\n",
       "Product_32    14\n",
       "Product_25    14\n",
       "Product_12    14\n",
       "Product_41    14\n",
       "Product_5     14\n",
       "Product_35    14\n",
       "Product_11    13\n",
       "Product_39    13\n",
       "Product_18    13\n",
       "Product_14    13\n",
       "Product_47    12\n",
       "Name: count, dtype: int64"
      ]
     },
     "execution_count": 12,
     "metadata": {},
     "output_type": "execute_result"
    }
   ],
   "source": [
    "df['Product'].value_counts()"
   ]
  },
  {
   "cell_type": "code",
   "execution_count": 13,
   "metadata": {},
   "outputs": [
    {
     "data": {
      "text/plain": [
       "Region\n",
       "Region_5     112\n",
       "Region_2     101\n",
       "Region_9      98\n",
       "Region_8      96\n",
       "Region_7      92\n",
       "Region_4      91\n",
       "Region_1      90\n",
       "Region_10     89\n",
       "Region_3      87\n",
       "Region_6      86\n",
       "Name: count, dtype: int64"
      ]
     },
     "execution_count": 13,
     "metadata": {},
     "output_type": "execute_result"
    }
   ],
   "source": [
    "df['Region'].value_counts()"
   ]
  },
  {
   "cell_type": "code",
   "execution_count": 14,
   "metadata": {},
   "outputs": [
    {
     "data": {
      "text/plain": [
       "Units Sold\n",
       "10.0    129\n",
       "11.0    104\n",
       "9.0      96\n",
       "7.0      91\n",
       "12.0     85\n",
       "8.0      83\n",
       "13.0     82\n",
       "6.0      60\n",
       "14.0     59\n",
       "5.0      43\n",
       "15.0     37\n",
       "16.0     26\n",
       "4.0      13\n",
       "17.0     13\n",
       "18.0      7\n",
       "3.0       6\n",
       "19.0      3\n",
       "2.0       2\n",
       "21.0      2\n",
       "20.0      1\n",
       "22.0      1\n",
       "Name: count, dtype: int64"
      ]
     },
     "execution_count": 14,
     "metadata": {},
     "output_type": "execute_result"
    }
   ],
   "source": [
    "df['Units Sold'].value_counts()"
   ]
  },
  {
   "cell_type": "code",
   "execution_count": 15,
   "metadata": {},
   "outputs": [
    {
     "data": {
      "text/plain": [
       "count    943.000000\n",
       "mean      10.200424\n",
       "std        3.247589\n",
       "min        2.000000\n",
       "25%        8.000000\n",
       "50%       10.000000\n",
       "75%       12.000000\n",
       "max       22.000000\n",
       "Name: Units Sold, dtype: float64"
      ]
     },
     "execution_count": 15,
     "metadata": {},
     "output_type": "execute_result"
    }
   ],
   "source": [
    "df['Units Sold'].describe()"
   ]
  },
  {
   "cell_type": "code",
   "execution_count": 16,
   "metadata": {},
   "outputs": [
    {
     "data": {
      "text/plain": [
       "count     945.000000\n",
       "mean      108.628011\n",
       "std       167.350086\n",
       "min         0.190000\n",
       "25%        26.420000\n",
       "50%        64.640000\n",
       "75%       142.310000\n",
       "max      2636.900000\n",
       "Name: Price, dtype: float64"
      ]
     },
     "execution_count": 16,
     "metadata": {},
     "output_type": "execute_result"
    }
   ],
   "source": [
    "df['Price'].describe()"
   ]
  },
  {
   "cell_type": "code",
   "execution_count": 17,
   "metadata": {},
   "outputs": [
    {
     "data": {
      "text/html": [
       "<div>\n",
       "<style scoped>\n",
       "    .dataframe tbody tr th:only-of-type {\n",
       "        vertical-align: middle;\n",
       "    }\n",
       "\n",
       "    .dataframe tbody tr th {\n",
       "        vertical-align: top;\n",
       "    }\n",
       "\n",
       "    .dataframe thead th {\n",
       "        text-align: right;\n",
       "    }\n",
       "</style>\n",
       "<table border=\"1\" class=\"dataframe\">\n",
       "  <thead>\n",
       "    <tr style=\"text-align: right;\">\n",
       "      <th></th>\n",
       "      <th>count</th>\n",
       "      <th>mean</th>\n",
       "      <th>std</th>\n",
       "      <th>min</th>\n",
       "      <th>25%</th>\n",
       "      <th>50%</th>\n",
       "      <th>75%</th>\n",
       "      <th>max</th>\n",
       "    </tr>\n",
       "    <tr>\n",
       "      <th>Region</th>\n",
       "      <th></th>\n",
       "      <th></th>\n",
       "      <th></th>\n",
       "      <th></th>\n",
       "      <th></th>\n",
       "      <th></th>\n",
       "      <th></th>\n",
       "      <th></th>\n",
       "    </tr>\n",
       "  </thead>\n",
       "  <tbody>\n",
       "    <tr>\n",
       "      <th>Region_1</th>\n",
       "      <td>78.0</td>\n",
       "      <td>97.792821</td>\n",
       "      <td>89.277140</td>\n",
       "      <td>2.91</td>\n",
       "      <td>40.7575</td>\n",
       "      <td>72.440</td>\n",
       "      <td>121.2150</td>\n",
       "      <td>469.65</td>\n",
       "    </tr>\n",
       "    <tr>\n",
       "      <th>Region_10</th>\n",
       "      <td>80.0</td>\n",
       "      <td>113.310500</td>\n",
       "      <td>120.292908</td>\n",
       "      <td>0.19</td>\n",
       "      <td>26.7425</td>\n",
       "      <td>67.900</td>\n",
       "      <td>151.6175</td>\n",
       "      <td>650.50</td>\n",
       "    </tr>\n",
       "    <tr>\n",
       "      <th>Region_2</th>\n",
       "      <td>94.0</td>\n",
       "      <td>137.287340</td>\n",
       "      <td>283.069362</td>\n",
       "      <td>1.49</td>\n",
       "      <td>24.4725</td>\n",
       "      <td>66.960</td>\n",
       "      <td>158.7025</td>\n",
       "      <td>2636.90</td>\n",
       "    </tr>\n",
       "    <tr>\n",
       "      <th>Region_3</th>\n",
       "      <td>75.0</td>\n",
       "      <td>91.008400</td>\n",
       "      <td>89.612608</td>\n",
       "      <td>3.40</td>\n",
       "      <td>35.1000</td>\n",
       "      <td>58.370</td>\n",
       "      <td>121.1550</td>\n",
       "      <td>485.84</td>\n",
       "    </tr>\n",
       "    <tr>\n",
       "      <th>Region_4</th>\n",
       "      <td>79.0</td>\n",
       "      <td>85.824051</td>\n",
       "      <td>94.673327</td>\n",
       "      <td>2.37</td>\n",
       "      <td>21.3050</td>\n",
       "      <td>47.340</td>\n",
       "      <td>119.8500</td>\n",
       "      <td>489.40</td>\n",
       "    </tr>\n",
       "    <tr>\n",
       "      <th>Region_5</th>\n",
       "      <td>100.0</td>\n",
       "      <td>125.430300</td>\n",
       "      <td>263.248626</td>\n",
       "      <td>0.27</td>\n",
       "      <td>31.6175</td>\n",
       "      <td>75.195</td>\n",
       "      <td>141.4850</td>\n",
       "      <td>2544.60</td>\n",
       "    </tr>\n",
       "    <tr>\n",
       "      <th>Region_6</th>\n",
       "      <td>81.0</td>\n",
       "      <td>96.727037</td>\n",
       "      <td>98.491166</td>\n",
       "      <td>0.71</td>\n",
       "      <td>28.7300</td>\n",
       "      <td>55.410</td>\n",
       "      <td>125.5100</td>\n",
       "      <td>417.05</td>\n",
       "    </tr>\n",
       "    <tr>\n",
       "      <th>Region_7</th>\n",
       "      <td>84.0</td>\n",
       "      <td>107.210119</td>\n",
       "      <td>211.396135</td>\n",
       "      <td>0.19</td>\n",
       "      <td>20.1225</td>\n",
       "      <td>58.865</td>\n",
       "      <td>123.8175</td>\n",
       "      <td>1793.90</td>\n",
       "    </tr>\n",
       "    <tr>\n",
       "      <th>Region_8</th>\n",
       "      <td>88.0</td>\n",
       "      <td>120.850909</td>\n",
       "      <td>158.015038</td>\n",
       "      <td>0.27</td>\n",
       "      <td>38.8225</td>\n",
       "      <td>81.585</td>\n",
       "      <td>145.4825</td>\n",
       "      <td>1296.00</td>\n",
       "    </tr>\n",
       "    <tr>\n",
       "      <th>Region_9</th>\n",
       "      <td>88.0</td>\n",
       "      <td>95.861477</td>\n",
       "      <td>98.457933</td>\n",
       "      <td>0.25</td>\n",
       "      <td>23.6950</td>\n",
       "      <td>66.375</td>\n",
       "      <td>134.7675</td>\n",
       "      <td>531.91</td>\n",
       "    </tr>\n",
       "  </tbody>\n",
       "</table>\n",
       "</div>"
      ],
      "text/plain": [
       "           count        mean         std   min      25%     50%       75%   \n",
       "Region                                                                      \n",
       "Region_1    78.0   97.792821   89.277140  2.91  40.7575  72.440  121.2150  \\\n",
       "Region_10   80.0  113.310500  120.292908  0.19  26.7425  67.900  151.6175   \n",
       "Region_2    94.0  137.287340  283.069362  1.49  24.4725  66.960  158.7025   \n",
       "Region_3    75.0   91.008400   89.612608  3.40  35.1000  58.370  121.1550   \n",
       "Region_4    79.0   85.824051   94.673327  2.37  21.3050  47.340  119.8500   \n",
       "Region_5   100.0  125.430300  263.248626  0.27  31.6175  75.195  141.4850   \n",
       "Region_6    81.0   96.727037   98.491166  0.71  28.7300  55.410  125.5100   \n",
       "Region_7    84.0  107.210119  211.396135  0.19  20.1225  58.865  123.8175   \n",
       "Region_8    88.0  120.850909  158.015038  0.27  38.8225  81.585  145.4825   \n",
       "Region_9    88.0   95.861477   98.457933  0.25  23.6950  66.375  134.7675   \n",
       "\n",
       "               max  \n",
       "Region              \n",
       "Region_1    469.65  \n",
       "Region_10   650.50  \n",
       "Region_2   2636.90  \n",
       "Region_3    485.84  \n",
       "Region_4    489.40  \n",
       "Region_5   2544.60  \n",
       "Region_6    417.05  \n",
       "Region_7   1793.90  \n",
       "Region_8   1296.00  \n",
       "Region_9    531.91  "
      ]
     },
     "execution_count": 17,
     "metadata": {},
     "output_type": "execute_result"
    }
   ],
   "source": [
    "df.groupby('Region')['Price'].describe()"
   ]
  },
  {
   "cell_type": "code",
   "execution_count": 18,
   "metadata": {},
   "outputs": [
    {
     "data": {
      "text/html": [
       "<div>\n",
       "<style scoped>\n",
       "    .dataframe tbody tr th:only-of-type {\n",
       "        vertical-align: middle;\n",
       "    }\n",
       "\n",
       "    .dataframe tbody tr th {\n",
       "        vertical-align: top;\n",
       "    }\n",
       "\n",
       "    .dataframe thead th {\n",
       "        text-align: right;\n",
       "    }\n",
       "</style>\n",
       "<table border=\"1\" class=\"dataframe\">\n",
       "  <thead>\n",
       "    <tr style=\"text-align: right;\">\n",
       "      <th></th>\n",
       "      <th>Product</th>\n",
       "      <th>Region</th>\n",
       "      <th>Price</th>\n",
       "      <th>Units Sold</th>\n",
       "      <th>Sale Date</th>\n",
       "    </tr>\n",
       "  </thead>\n",
       "  <tbody>\n",
       "    <tr>\n",
       "      <th>count</th>\n",
       "      <td>947</td>\n",
       "      <td>942</td>\n",
       "      <td>945.000000</td>\n",
       "      <td>943.000000</td>\n",
       "      <td>1050</td>\n",
       "    </tr>\n",
       "    <tr>\n",
       "      <th>unique</th>\n",
       "      <td>50</td>\n",
       "      <td>10</td>\n",
       "      <td>NaN</td>\n",
       "      <td>NaN</td>\n",
       "      <td>1000</td>\n",
       "    </tr>\n",
       "    <tr>\n",
       "      <th>top</th>\n",
       "      <td>Product_4</td>\n",
       "      <td>Region_5</td>\n",
       "      <td>NaN</td>\n",
       "      <td>NaN</td>\n",
       "      <td>2023-07-31</td>\n",
       "    </tr>\n",
       "    <tr>\n",
       "      <th>freq</th>\n",
       "      <td>30</td>\n",
       "      <td>112</td>\n",
       "      <td>NaN</td>\n",
       "      <td>NaN</td>\n",
       "      <td>2</td>\n",
       "    </tr>\n",
       "    <tr>\n",
       "      <th>mean</th>\n",
       "      <td>NaN</td>\n",
       "      <td>NaN</td>\n",
       "      <td>108.628011</td>\n",
       "      <td>10.200424</td>\n",
       "      <td>NaN</td>\n",
       "    </tr>\n",
       "    <tr>\n",
       "      <th>std</th>\n",
       "      <td>NaN</td>\n",
       "      <td>NaN</td>\n",
       "      <td>167.350086</td>\n",
       "      <td>3.247589</td>\n",
       "      <td>NaN</td>\n",
       "    </tr>\n",
       "    <tr>\n",
       "      <th>min</th>\n",
       "      <td>NaN</td>\n",
       "      <td>NaN</td>\n",
       "      <td>0.190000</td>\n",
       "      <td>2.000000</td>\n",
       "      <td>NaN</td>\n",
       "    </tr>\n",
       "    <tr>\n",
       "      <th>25%</th>\n",
       "      <td>NaN</td>\n",
       "      <td>NaN</td>\n",
       "      <td>26.420000</td>\n",
       "      <td>8.000000</td>\n",
       "      <td>NaN</td>\n",
       "    </tr>\n",
       "    <tr>\n",
       "      <th>50%</th>\n",
       "      <td>NaN</td>\n",
       "      <td>NaN</td>\n",
       "      <td>64.640000</td>\n",
       "      <td>10.000000</td>\n",
       "      <td>NaN</td>\n",
       "    </tr>\n",
       "    <tr>\n",
       "      <th>75%</th>\n",
       "      <td>NaN</td>\n",
       "      <td>NaN</td>\n",
       "      <td>142.310000</td>\n",
       "      <td>12.000000</td>\n",
       "      <td>NaN</td>\n",
       "    </tr>\n",
       "    <tr>\n",
       "      <th>max</th>\n",
       "      <td>NaN</td>\n",
       "      <td>NaN</td>\n",
       "      <td>2636.900000</td>\n",
       "      <td>22.000000</td>\n",
       "      <td>NaN</td>\n",
       "    </tr>\n",
       "  </tbody>\n",
       "</table>\n",
       "</div>"
      ],
      "text/plain": [
       "          Product    Region        Price  Units Sold   Sale Date\n",
       "count         947       942   945.000000  943.000000        1050\n",
       "unique         50        10          NaN         NaN        1000\n",
       "top     Product_4  Region_5          NaN         NaN  2023-07-31\n",
       "freq           30       112          NaN         NaN           2\n",
       "mean          NaN       NaN   108.628011   10.200424         NaN\n",
       "std           NaN       NaN   167.350086    3.247589         NaN\n",
       "min           NaN       NaN     0.190000    2.000000         NaN\n",
       "25%           NaN       NaN    26.420000    8.000000         NaN\n",
       "50%           NaN       NaN    64.640000   10.000000         NaN\n",
       "75%           NaN       NaN   142.310000   12.000000         NaN\n",
       "max           NaN       NaN  2636.900000   22.000000         NaN"
      ]
     },
     "execution_count": 18,
     "metadata": {},
     "output_type": "execute_result"
    }
   ],
   "source": [
    "df.describe(include='all')"
   ]
  },
  {
   "cell_type": "code",
   "execution_count": 27,
   "metadata": {},
   "outputs": [],
   "source": [
    "import matplotlib.pyplot as plt\n",
    "import seaborn as sns"
   ]
  },
  {
   "cell_type": "code",
   "execution_count": 34,
   "metadata": {},
   "outputs": [
    {
     "data": {
      "text/plain": [
       "<Axes: xlabel='Units Sold', ylabel='Count'>"
      ]
     },
     "execution_count": 34,
     "metadata": {},
     "output_type": "execute_result"
    },
    {
     "data": {
      "image/png": "[encoded data removed]",
      "text/plain": [
       "<Figure size 640x480 with 1 Axes>"
      ]
     },
     "metadata": {},
     "output_type": "display_data"
    }
   ],
   "source": [
    "sns.histplot(df['Units Sold'])"
   ]
  },
  {
   "cell_type": "code",
   "execution_count": 68,
   "metadata": {},
   "outputs": [],
   "source": [
    "df.reset_index(inplace=True)"
   ]
  },
  {
   "cell_type": "code",
   "execution_count": 69,
   "metadata": {},
   "outputs": [],
   "source": [
    "df.drop_duplicates(inplace=True)"
   ]
  },
  {
   "cell_type": "code",
   "execution_count": 70,
   "metadata": {},
   "outputs": [
    {
     "name": "stdout",
     "output_type": "stream",
     "text": [
      "<class 'pandas.core.frame.DataFrame'>\n",
      "RangeIndex: 1050 entries, 0 to 1049\n",
      "Data columns (total 6 columns):\n",
      " #   Column      Non-Null Count  Dtype  \n",
      "---  ------      --------------  -----  \n",
      " 0   index       1050 non-null   int64  \n",
      " 1   Product     947 non-null    object \n",
      " 2   Region      942 non-null    object \n",
      " 3   Price       945 non-null    float64\n",
      " 4   Units Sold  943 non-null    float64\n",
      " 5   Sale Date   1050 non-null   object \n",
      "dtypes: float64(2), int64(1), object(3)\n",
      "memory usage: 49.3+ KB\n"
     ]
    }
   ],
   "source": [
    "df.info()"
   ]
  },
  {
   "cell_type": "code",
   "execution_count": 71,
   "metadata": {},
   "outputs": [
    {
     "data": {
      "text/plain": [
       "Region\n",
       "Region_1     72.440\n",
       "Region_10    67.900\n",
       "Region_2     66.960\n",
       "Region_3     58.370\n",
       "Region_4     47.340\n",
       "Region_5     75.195\n",
       "Region_6     55.410\n",
       "Region_7     58.865\n",
       "Region_8     81.585\n",
       "Region_9     66.375\n",
       "Name: Price, dtype: float64"
      ]
     },
     "execution_count": 71,
     "metadata": {},
     "output_type": "execute_result"
    }
   ],
   "source": [
    "df.groupby('Region')['Price'].median()"
   ]
  },
  {
   "cell_type": "code",
   "execution_count": 66,
   "metadata": {},
   "outputs": [],
   "source": [
    "region1_clean = df[df['Region']=='1'].fillna(72.440)"
   ]
  },
  {
   "cell_type": "code",
   "execution_count": 52,
   "metadata": {},
   "outputs": [],
   "source": [
    "region10_clean = df[df['Region']=='10'].fillna(67.900)"
   ]
  },
  {
   "cell_type": "code",
   "execution_count": 53,
   "metadata": {},
   "outputs": [],
   "source": [
    "region2_clean = df[df['Region']=='2'].fillna(66.960)"
   ]
  },
  {
   "cell_type": "code",
   "execution_count": 54,
   "metadata": {},
   "outputs": [],
   "source": [
    "region3_clean = df[df['Region']=='3'].fillna(58.370)"
   ]
  },
  {
   "cell_type": "code",
   "execution_count": 55,
   "metadata": {},
   "outputs": [],
   "source": [
    "region4_clean = df[df['Region']=='4'].fillna(47.340)"
   ]
  },
  {
   "cell_type": "code",
   "execution_count": 56,
   "metadata": {},
   "outputs": [],
   "source": [
    "region5_clean = df[df['Region']=='5'].fillna(75.195)"
   ]
  },
  {
   "cell_type": "code",
   "execution_count": 57,
   "metadata": {},
   "outputs": [],
   "source": [
    "region6_clean = df[df['Region']=='6'].fillna(55.410)"
   ]
  },
  {
   "cell_type": "code",
   "execution_count": 58,
   "metadata": {},
   "outputs": [],
   "source": [
    "region7_clean = df[df['Region']=='7'].fillna(58.865)"
   ]
  },
  {
   "cell_type": "code",
   "execution_count": 59,
   "metadata": {},
   "outputs": [],
   "source": [
    "region8_clean = df[df['Region']=='8'].fillna(83.330)"
   ]
  },
  {
   "cell_type": "code",
   "execution_count": 60,
   "metadata": {},
   "outputs": [],
   "source": [
    "region9_clean = df[df['Region']=='9'].fillna(66.375)"
   ]
  },
  {
   "cell_type": "code",
   "execution_count": 61,
   "metadata": {},
   "outputs": [],
   "source": [
    "df_clean = pd.concat([region1_clean,region10_clean,region2_clean,region3_clean,region4_clean,region5_clean,region6_clean,region7_clean,region8_clean,region9_clean],axis=0)"
   ]
  },
  {
   "cell_type": "code",
   "execution_count": 67,
   "metadata": {},
   "outputs": [
    {
     "name": "stdout",
     "output_type": "stream",
     "text": [
      "<class 'pandas.core.frame.DataFrame'>\n",
      "Index: 0 entries\n",
      "Data columns (total 4 columns):\n",
      " #   Column     Non-Null Count  Dtype  \n",
      "---  ------     --------------  -----  \n",
      " 0   Product    0 non-null      object \n",
      " 1   Region     0 non-null      object \n",
      " 2   Price      0 non-null      float64\n",
      " 3   Sale Date  0 non-null      object \n",
      "dtypes: float64(1), object(3)\n",
      "memory usage: 0.0+ bytes\n"
     ]
    }
   ],
   "source": [
    "df_clean.info()"
   ]
  }
 ],
 "metadata": {
  "kernelspec": {
   "display_name": "Python 3",
   "language": "python",
   "name": "python3"
  },
  "language_info": {
   "codemirror_mode": {
    "name": "ipython",
    "version": 3
   },
   "file_extension": ".py",
   "mimetype": "text/x-python",
   "name": "python",
   "nbconvert_exporter": "python",
   "pygments_lexer": "ipython3",
   "version": "3.11.3"
  },
  "orig_nbformat": 4
 },
 "nbformat": 4,
 "nbformat_minor": 2
}
